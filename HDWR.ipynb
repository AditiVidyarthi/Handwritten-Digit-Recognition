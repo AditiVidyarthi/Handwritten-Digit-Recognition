{
  "nbformat": 4,
  "nbformat_minor": 0,
  "metadata": {
    "colab": {
      "provenance": [],
      "authorship_tag": "ABX9TyPJ8PzL+qspPtqfeIUbslpt",
      "include_colab_link": true
    },
    "kernelspec": {
      "name": "python3",
      "display_name": "Python 3"
    },
    "language_info": {
      "name": "python"
    }
  },
  "cells": [
    {
      "cell_type": "markdown",
      "metadata": {
        "id": "view-in-github",
        "colab_type": "text"
      },
      "source": [
        "<a href=\"https://colab.research.google.com/github/AditiVidyarthi/Handwritten-Digit-Recognition/blob/main/HDWR.ipynb\" target=\"_parent\"><img src=\"https://colab.research.google.com/assets/colab-badge.svg\" alt=\"Open In Colab\"/></a>"
      ]
    },
    {
      "cell_type": "code",
      "source": [],
      "metadata": {
        "id": "sTgzhZ6lrnwE"
      },
      "execution_count": null,
      "outputs": []
    },
    {
      "cell_type": "code",
      "source": [
        "!python application.py"
      ],
      "metadata": {
        "colab": {
          "base_uri": "https://localhost:8080/"
        },
        "id": "hjpg8vDnuyml",
        "outputId": "7e91b9a3-bea7-4b8e-b564-407f8083fb40"
      },
      "execution_count": 6,
      "outputs": [
        {
          "output_type": "stream",
          "name": "stdout",
          "text": [
            "2023-01-27 00:44:16.098487: E tensorflow/stream_executor/cuda/cuda_driver.cc:271] failed call to cuInit: CUDA_ERROR_NO_DEVICE: no CUDA-capable device is detected\n",
            "Traceback (most recent call last):\n",
            "  File \"application.py\", line 45, in <module>\n",
            "    import pygetwindow\n",
            "  File \"/usr/local/lib/python3.8/dist-packages/pygetwindow/__init__.py\", line 347, in <module>\n",
            "    raise NotImplementedError(\n",
            "NotImplementedError: PyGetWindow currently does not support Linux. If you have Xlib knowledge, please contribute! https://github.com/asweigart/pygetwindow\n",
            "Exception ignored in: <function _CheckpointRestoreCoordinatorDeleter.__del__ at 0x7f6b406b5550>\n",
            "Traceback (most recent call last):\n",
            "  File \"/usr/local/lib/python3.8/dist-packages/tensorflow/python/training/tracking/util.py\", line 189, in __del__\n",
            "TypeError: 'NoneType' object is not callable\n"
          ]
        }
      ]
    }
  ]
}